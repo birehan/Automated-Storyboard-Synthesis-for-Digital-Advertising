{
 "cells": [
  {
   "cell_type": "markdown",
   "metadata": {},
   "source": [
    "## StoryBoard Visualization"
   ]
  },
  {
   "cell_type": "code",
   "execution_count": 1,
   "metadata": {},
   "outputs": [
    {
     "name": "stderr",
     "output_type": "stream",
     "text": [
      "/home/babi/miniconda3/envs/week10/lib/python3.8/site-packages/langchain_core/_api/deprecation.py:117: LangChainDeprecationWarning: The class `langchain_community.chat_models.openai.ChatOpenAI` was deprecated in langchain-community 0.0.10 and will be removed in 0.2.0. An updated version of the class exists in the langchain-openai package and should be used instead. To use it run `pip install -U langchain-openai` and import as `from langchain_openai import ChatOpenAI`.\n",
      "  warn_deprecated(\n",
      "/home/babi/miniconda3/envs/week10/lib/python3.8/site-packages/langchain_core/_api/deprecation.py:117: LangChainDeprecationWarning: The function `initialize_agent` was deprecated in LangChain 0.1.0 and will be removed in 0.2.0. Use Use new agent constructor methods like create_react_agent, create_json_agent, create_structured_chat_agent, etc. instead.\n",
      "  warn_deprecated(\n",
      "INFO:root:langchain  created successfully.\n"
     ]
    }
   ],
   "source": [
    "from exectuors import get_agent_executor\n",
    "agent_executor = get_agent_executor()"
   ]
  },
  {
   "cell_type": "markdown",
   "metadata": {},
   "source": [
    "### Asset Generation"
   ]
  },
  {
   "cell_type": "code",
   "execution_count": 2,
   "metadata": {},
   "outputs": [],
   "source": [
    "concept = {\n",
    "        \"concept\": \"Interactive Beat Mixer\",\n",
    "        \"implementation\": {\n",
    "            \"frame_1\": {\n",
    "                \"description\": \"Users are greeted with an animated Coca-Cola bottle that transforms into a DJ turntable. A 'Mix Your Beat' call-to-action invites users to interact.\",\n",
    "                \"interaction_type\": \"Tap\",\n",
    "                \"next_frame\": \"frame_2\",\n",
    "                \"duration\": \"3 seconds\"\n",
    "            },\n",
    "            \"frame_2\": {\n",
    "                \"description\": \"Tapping the CTA turns the screen into an interactive beat mixer with elements representing different Latin American music styles. Users can tap to add beats.\",\n",
    "                \"interaction_type\": \"Tap and Hold\",\n",
    "                \"next_frame\": \"frame_3\",\n",
    "                \"duration\": \"5 seconds\"\n",
    "            },\n",
    "            \"frame_3\": {\n",
    "                \"description\": \"As users create their mix, the screen pulses with vibrant colors and animations, reflecting the energy of Coke Studio. A 'Play Your Mix' button appears.\",\n",
    "                \"interaction_type\": \"Tap\",\n",
    "                \"next_frame\": \"end-of-advertisement\",\n",
    "                \"duration\": \"5 seconds\"\n",
    "            }\n",
    "        },\n",
    "        \"explanation\": \"The interactive beat mixer concept is designed to engage users by allowing them to create their own music, fostering a sense of creativity and ownership. It aligns with the campaign's goals of engagement and message recall by offering a memorable and shareable experience. The concept also taps into the partnership with RAPPI Turbo by potentially integrating shared mixes on the platform.\",\n",
    "        \"asset_suggestions\": [\n",
    "            {\n",
    "                \"frame_1\": {\n",
    "                    \"Background\": \"A high-resolution 3D Coca-Cola bottle center-screen, bubbles rising to the top, transitioning into a sleek DJ turntable with a vinyl record that has the Coke Studio logo.\",\n",
    "                    \"CTA Button\": \"'Mix Your Beat' in bold, playful font pulsating to the rhythm of a subtle background beat, positioned at the bottom of the screen.\"\n",
    "                },\n",
    "                \"frame_2\": {\n",
    "                    \"Interactive Elements\": \"A digital beat mixer interface with vibrant, touch-responsive Latin American instrument icons like congas, claves, and maracas, each activating a unique sound layer.\",\n",
    "                    \"Background\": \"A dynamic, abstract representation of sound waves that move in sync with the user's interactions.\"\n",
    "                },\n",
    "                \"frame_3\": {\n",
    "                    \"Background\": \"A dynamic, abstract representation of sound waves that move in sync with the user's interactions.\",\n",
    "                    \"Animation\": \"A kaleidoscope of colors that dance across the screen, with each beat added, symbolizing the fusion of cultures and music.\",\n",
    "                    \"CTA Button\": \"A 'Play Your Mix' button that pulses like a heartbeat, encouraging users to share their creation.\"\n",
    "                },\n",
    "\n",
    "            \n",
    "                \"explanation\": \"This variation emphasizes the joy and interactivity of music mixing, with each frame building on the last to create a crescendo of engagement. The 3D bottle-to-turntable animation captures attention, the interactive beat mixer sustains engagement, and the vibrant animations encourage sharing, aligning with the campaign's objectives of engagement and message recall.\"\n",
    "            },\n",
    "            {\n",
    "                \"frame_1\": {\n",
    "                    \"Animated Element\": \"A photorealistic Coca-Cola bottle wrapped in a world tapestry of musical instruments, which unravels to reveal a DJ turntable set against a backdrop of a cheering crowd.\",\n",
    "                    \"CTA Text\": \"A neon sign-style 'Start the Music' CTA that flickers to life, inviting user interaction.\"\n",
    "                },\n",
    "                \"frame_2\": {\n",
    "                    \"Interactive Elements\": \"A virtual beat mixer with 3D buttons and sliders that mimic real DJ equipment, each representing a different Latin American genre.\",\n",
    "                    \"Background\": \"A crowd silhouette that reacts with cheers and movements as the user adds beats, enhancing the live performance feel.\"\n",
    "                },\n",
    "                \"frame_3\": {\n",
    "                    \"Animation\": \"A burst of fireworks animations that sync with the music mix, creating a festival atmosphere.\",\n",
    "                    \"CTA Button\": \"A glowing 'Share the Vibe' button with a small animation of sound waves emanating from it.\"\n",
    "                },\n",
    "                \"explanation\": \"This variation creates a live concert experience, with the crowd and fireworks animations adding to the excitement. The realistic DJ equipment and responsive crowd animations in frame 2 immerse the user in the role of a DJ, while the 'Share the Vibe' CTA in frame 3 encourages social sharing, driving traffic to the Coke Studio site.\"\n",
    "            },\n",
    "            {\n",
    "                \"frame_1\": {\n",
    "                    \"Animated Element\": \"A Coca-Cola bottle with a label that morphs into a dynamic equalizer, leading to a DJ turntable emerging from a burst of musical notes.\",\n",
    "                    \"CTA Text\": \"An animated 'Hit Play' CTA that bounces to the beat, drawing the user's eye.\"\n",
    "                },\n",
    "                \"frame_2\": {\n",
    "                    \"Interactive Elements\": \"A selection of stylized touch pads that light up with traditional Latin American patterns when pressed, each adding a unique sound to the mix.\",\n",
    "                    \"Background\": \"A digital visualization of a sound spectrum that reacts in real-time to the mix being created.\"\n",
    "                },\n",
    "                \"frame_3\": {\n",
    "                    \"Animation\": \"A series of animated musical notes and instruments that playfully move around the screen as the user adds to their mix.\",\n",
    "                    \"CTA Button\": \"A 'Let the World Hear' button that appears to 'listen' to the mix, with sound waves animated around it.\"\n",
    "                },\n",
    "                \"explanation\": \"This variation focuses on the visual representation of music, with the equalizer, sound spectrum, and musical notes providing a multisensory experience. The 'Hit Play' CTA in frame 1 invites interaction, the touch pads in frame 2 provide tactile feedback, and the 'Let the World Hear' CTA in frame 3 motivates users to share their mix, enhancing engagement and driving campaign KPIs.\"\n",
    "            }\n",
    "        ]\n",
    "    }"
   ]
  },
  {
   "cell_type": "code",
   "execution_count": 3,
   "metadata": {},
   "outputs": [],
   "source": [
    "storyboard_concept = concept[\"concept\"]\n",
    "storyboard_implementation = concept[\"implementation\"]\n",
    "storyboard_explanation = concept['explanation']"
   ]
  },
  {
   "cell_type": "code",
   "execution_count": 17,
   "metadata": {},
   "outputs": [],
   "source": [
    "storyboard_frame_1 = concept[\"asset_suggestions\"][0][\"frame_1\"]\n",
    "storyboard_frame_2 = concept[\"asset_suggestions\"][0][\"frame_2\"]\n",
    "storyboard_frame_3 = concept[\"asset_suggestions\"][0][\"frame_3\"]\n"
   ]
  },
  {
   "cell_type": "code",
   "execution_count": 5,
   "metadata": {},
   "outputs": [
    {
     "data": {
      "text/plain": [
       "{'Background': 'A high-resolution 3D Coca-Cola bottle center-screen, bubbles rising to the top, transitioning into a sleek DJ turntable with a vinyl record that has the Coke Studio logo.',\n",
       " 'CTA Button': \"'Mix Your Beat' in bold, playful font pulsating to the rhythm of a subtle background beat, positioned at the bottom of the screen.\"}"
      ]
     },
     "execution_count": 5,
     "metadata": {},
     "output_type": "execute_result"
    }
   ],
   "source": [
    "storyboard_frame_1\n"
   ]
  },
  {
   "cell_type": "code",
   "execution_count": 18,
   "metadata": {},
   "outputs": [],
   "source": [
    "def get_prompt(frame_number, storyboard_frame):\n",
    "    prompt = f'''\n",
    "        you are advertisement assets generator. the advertisement assets are smallest components when combined they \n",
    "        create a frame, and frames combine create a storyboard for the advertisemet. \n",
    "        Given \n",
    "            - the storyboard concept: {storyboard_concept} \n",
    "            - the storyboard implementation: {storyboard_implementation}\n",
    "            - the storyboard explanation:  {storyboard_explanation} \n",
    "\n",
    "        I want you to generate asset images for storyboard  frame 1\n",
    "        Given storyboard_frame_{frame_number} : {storyboard_frame}, the the storyboard frame_{frame_number} contains the asset category\n",
    "        paired with the prompt that generate the image. Given the content, update the prompts to\n",
    "        become more effective and direct, specify the spcific color to be used, compnents, texture and make the prompt that\n",
    "        not to generate image including any text, no text should be in the image generation.\n",
    "        return me a json object of pair of asset category with image file path\n",
    "        '''\n",
    "\n",
    "    return prompt\n"
   ]
  },
  {
   "cell_type": "code",
   "execution_count": 20,
   "metadata": {},
   "outputs": [],
   "source": [
    "prompt_1 = get_prompt(1, storyboard_frame_1)"
   ]
  },
  {
   "cell_type": "code",
   "execution_count": 21,
   "metadata": {},
   "outputs": [
    {
     "name": "stdout",
     "output_type": "stream",
     "text": [
      "\n",
      "\n",
      "\u001b[1m> Entering new AgentExecutor chain...\u001b[0m\n"
     ]
    },
    {
     "name": "stderr",
     "output_type": "stream",
     "text": [
      "INFO:httpx:HTTP Request: POST https://api.openai.com/v1/chat/completions \"HTTP/1.1 200 OK\"\n"
     ]
    },
    {
     "name": "stdout",
     "output_type": "stream",
     "text": [
      "\u001b[32;1m\u001b[1;3m\n",
      "Invoking: `generate_image` with `{'prompt': 'A high-resolution 3D Coca-Cola bottle with bubbles rising, transitioning into a sleek DJ turntable with a vinyl record featuring the Coke Studio logo, no text.', 'image_name': 'frame1_background'}`\n",
      "\n",
      "\n",
      "\u001b[0m"
     ]
    },
    {
     "name": "stderr",
     "output_type": "stream",
     "text": [
      "INFO:httpx:HTTP Request: POST https://api.replicate.com/v1/predictions \"HTTP/1.1 201 Created\"\n",
      "INFO:httpx:HTTP Request: GET https://api.replicate.com/v1/models/konieshadow/fooocus-api-anime/versions/a750658f54c4f8bec1c8b0e352ce2666c22f2f919d391688ff4fc16e48b3a28f \"HTTP/1.1 200 OK\"\n",
      "INFO:httpx:HTTP Request: GET https://api.replicate.com/v1/predictions/xfxp4etbx6cd5sci3x5g2jkiv4 \"HTTP/1.1 200 OK\"\n",
      "INFO:httpx:HTTP Request: GET https://api.replicate.com/v1/predictions/xfxp4etbx6cd5sci3x5g2jkiv4 \"HTTP/1.1 200 OK\"\n",
      "INFO:httpx:HTTP Request: GET https://api.replicate.com/v1/predictions/xfxp4etbx6cd5sci3x5g2jkiv4 \"HTTP/1.1 200 OK\"\n",
      "INFO:httpx:HTTP Request: GET https://api.replicate.com/v1/predictions/xfxp4etbx6cd5sci3x5g2jkiv4 \"HTTP/1.1 200 OK\"\n",
      "INFO:httpx:HTTP Request: GET https://api.replicate.com/v1/predictions/xfxp4etbx6cd5sci3x5g2jkiv4 \"HTTP/1.1 200 OK\"\n",
      "INFO:httpx:HTTP Request: GET https://api.replicate.com/v1/predictions/xfxp4etbx6cd5sci3x5g2jkiv4 \"HTTP/1.1 200 OK\"\n",
      "INFO:httpx:HTTP Request: GET https://api.replicate.com/v1/predictions/xfxp4etbx6cd5sci3x5g2jkiv4 \"HTTP/1.1 200 OK\"\n",
      "INFO:httpx:HTTP Request: GET https://api.replicate.com/v1/predictions/xfxp4etbx6cd5sci3x5g2jkiv4 \"HTTP/1.1 200 OK\"\n",
      "INFO:httpx:HTTP Request: GET https://api.replicate.com/v1/predictions/xfxp4etbx6cd5sci3x5g2jkiv4 \"HTTP/1.1 200 OK\"\n",
      "INFO:httpx:HTTP Request: GET https://api.replicate.com/v1/predictions/xfxp4etbx6cd5sci3x5g2jkiv4 \"HTTP/1.1 200 OK\"\n",
      "INFO:httpx:HTTP Request: GET https://api.replicate.com/v1/predictions/xfxp4etbx6cd5sci3x5g2jkiv4 \"HTTP/1.1 200 OK\"\n",
      "INFO:httpx:HTTP Request: GET https://api.replicate.com/v1/predictions/xfxp4etbx6cd5sci3x5g2jkiv4 \"HTTP/1.1 200 OK\"\n",
      "INFO:httpx:HTTP Request: GET https://api.replicate.com/v1/predictions/xfxp4etbx6cd5sci3x5g2jkiv4 \"HTTP/1.1 200 OK\"\n",
      "INFO:httpx:HTTP Request: GET https://api.replicate.com/v1/predictions/xfxp4etbx6cd5sci3x5g2jkiv4 \"HTTP/1.1 200 OK\"\n",
      "INFO:httpx:HTTP Request: GET https://api.replicate.com/v1/predictions/xfxp4etbx6cd5sci3x5g2jkiv4 \"HTTP/1.1 200 OK\"\n",
      "INFO:httpx:HTTP Request: GET https://api.replicate.com/v1/predictions/xfxp4etbx6cd5sci3x5g2jkiv4 \"HTTP/1.1 200 OK\"\n",
      "INFO:httpx:HTTP Request: GET https://api.replicate.com/v1/predictions/xfxp4etbx6cd5sci3x5g2jkiv4 \"HTTP/1.1 200 OK\"\n",
      "INFO:httpx:HTTP Request: GET https://api.replicate.com/v1/predictions/xfxp4etbx6cd5sci3x5g2jkiv4 \"HTTP/1.1 200 OK\"\n",
      "INFO:httpx:HTTP Request: GET https://api.replicate.com/v1/predictions/xfxp4etbx6cd5sci3x5g2jkiv4 \"HTTP/1.1 200 OK\"\n",
      "INFO:httpx:HTTP Request: GET https://api.replicate.com/v1/predictions/xfxp4etbx6cd5sci3x5g2jkiv4 \"HTTP/1.1 200 OK\"\n",
      "INFO:httpx:HTTP Request: GET https://api.replicate.com/v1/predictions/xfxp4etbx6cd5sci3x5g2jkiv4 \"HTTP/1.1 200 OK\"\n",
      "INFO:httpx:HTTP Request: GET https://api.replicate.com/v1/predictions/xfxp4etbx6cd5sci3x5g2jkiv4 \"HTTP/1.1 200 OK\"\n",
      "INFO:httpx:HTTP Request: GET https://api.replicate.com/v1/predictions/xfxp4etbx6cd5sci3x5g2jkiv4 \"HTTP/1.1 200 OK\"\n",
      "INFO:httpx:HTTP Request: GET https://api.replicate.com/v1/predictions/xfxp4etbx6cd5sci3x5g2jkiv4 \"HTTP/1.1 200 OK\"\n",
      "INFO:httpx:HTTP Request: GET https://api.replicate.com/v1/predictions/xfxp4etbx6cd5sci3x5g2jkiv4 \"HTTP/1.1 200 OK\"\n",
      "INFO:httpx:HTTP Request: GET https://api.replicate.com/v1/predictions/xfxp4etbx6cd5sci3x5g2jkiv4 \"HTTP/1.1 200 OK\"\n",
      "INFO:httpx:HTTP Request: GET https://api.replicate.com/v1/predictions/xfxp4etbx6cd5sci3x5g2jkiv4 \"HTTP/1.1 200 OK\"\n",
      "INFO:httpx:HTTP Request: GET https://api.replicate.com/v1/predictions/xfxp4etbx6cd5sci3x5g2jkiv4 \"HTTP/1.1 200 OK\"\n",
      "INFO:httpx:HTTP Request: GET https://api.replicate.com/v1/predictions/xfxp4etbx6cd5sci3x5g2jkiv4 \"HTTP/1.1 200 OK\"\n",
      "INFO:httpx:HTTP Request: GET https://api.replicate.com/v1/predictions/xfxp4etbx6cd5sci3x5g2jkiv4 \"HTTP/1.1 200 OK\"\n",
      "INFO:httpx:HTTP Request: GET https://api.replicate.com/v1/predictions/xfxp4etbx6cd5sci3x5g2jkiv4 \"HTTP/1.1 200 OK\"\n",
      "INFO:httpx:HTTP Request: GET https://api.replicate.com/v1/predictions/xfxp4etbx6cd5sci3x5g2jkiv4 \"HTTP/1.1 200 OK\"\n",
      "INFO:httpx:HTTP Request: GET https://api.replicate.com/v1/predictions/xfxp4etbx6cd5sci3x5g2jkiv4 \"HTTP/1.1 200 OK\"\n",
      "INFO:httpx:HTTP Request: GET https://api.replicate.com/v1/predictions/xfxp4etbx6cd5sci3x5g2jkiv4 \"HTTP/1.1 200 OK\"\n",
      "INFO:httpx:HTTP Request: GET https://api.replicate.com/v1/predictions/xfxp4etbx6cd5sci3x5g2jkiv4 \"HTTP/1.1 200 OK\"\n",
      "INFO:httpx:HTTP Request: GET https://api.replicate.com/v1/predictions/xfxp4etbx6cd5sci3x5g2jkiv4 \"HTTP/1.1 200 OK\"\n",
      "INFO:httpx:HTTP Request: GET https://api.replicate.com/v1/predictions/xfxp4etbx6cd5sci3x5g2jkiv4 \"HTTP/1.1 200 OK\"\n",
      "INFO:httpx:HTTP Request: GET https://api.replicate.com/v1/predictions/xfxp4etbx6cd5sci3x5g2jkiv4 \"HTTP/1.1 200 OK\"\n",
      "INFO:httpx:HTTP Request: GET https://api.replicate.com/v1/predictions/xfxp4etbx6cd5sci3x5g2jkiv4 \"HTTP/1.1 200 OK\"\n",
      "INFO:httpx:HTTP Request: GET https://api.replicate.com/v1/predictions/xfxp4etbx6cd5sci3x5g2jkiv4 \"HTTP/1.1 200 OK\"\n",
      "INFO:httpx:HTTP Request: GET https://api.replicate.com/v1/predictions/xfxp4etbx6cd5sci3x5g2jkiv4 \"HTTP/1.1 200 OK\"\n",
      "INFO:httpx:HTTP Request: GET https://api.replicate.com/v1/predictions/xfxp4etbx6cd5sci3x5g2jkiv4 \"HTTP/1.1 200 OK\"\n",
      "INFO:httpx:HTTP Request: GET https://api.replicate.com/v1/predictions/xfxp4etbx6cd5sci3x5g2jkiv4 \"HTTP/1.1 200 OK\"\n",
      "INFO:httpx:HTTP Request: GET https://api.replicate.com/v1/predictions/xfxp4etbx6cd5sci3x5g2jkiv4 \"HTTP/1.1 200 OK\"\n",
      "INFO:httpx:HTTP Request: GET https://api.replicate.com/v1/predictions/xfxp4etbx6cd5sci3x5g2jkiv4 \"HTTP/1.1 200 OK\"\n",
      "INFO:httpx:HTTP Request: GET https://api.replicate.com/v1/predictions/xfxp4etbx6cd5sci3x5g2jkiv4 \"HTTP/1.1 200 OK\"\n",
      "INFO:httpx:HTTP Request: GET https://api.replicate.com/v1/predictions/xfxp4etbx6cd5sci3x5g2jkiv4 \"HTTP/1.1 200 OK\"\n",
      "INFO:httpx:HTTP Request: GET https://api.replicate.com/v1/predictions/xfxp4etbx6cd5sci3x5g2jkiv4 \"HTTP/1.1 200 OK\"\n",
      "INFO:httpx:HTTP Request: GET https://api.replicate.com/v1/predictions/xfxp4etbx6cd5sci3x5g2jkiv4 \"HTTP/1.1 200 OK\"\n",
      "INFO:httpx:HTTP Request: GET https://api.replicate.com/v1/predictions/xfxp4etbx6cd5sci3x5g2jkiv4 \"HTTP/1.1 200 OK\"\n",
      "INFO:httpx:HTTP Request: GET https://api.replicate.com/v1/predictions/xfxp4etbx6cd5sci3x5g2jkiv4 \"HTTP/1.1 200 OK\"\n",
      "INFO:httpx:HTTP Request: GET https://api.replicate.com/v1/predictions/xfxp4etbx6cd5sci3x5g2jkiv4 \"HTTP/1.1 200 OK\"\n",
      "INFO:httpx:HTTP Request: GET https://api.replicate.com/v1/predictions/xfxp4etbx6cd5sci3x5g2jkiv4 \"HTTP/1.1 200 OK\"\n",
      "INFO:httpx:HTTP Request: GET https://api.replicate.com/v1/predictions/xfxp4etbx6cd5sci3x5g2jkiv4 \"HTTP/1.1 200 OK\"\n",
      "INFO:httpx:HTTP Request: GET https://api.replicate.com/v1/predictions/xfxp4etbx6cd5sci3x5g2jkiv4 \"HTTP/1.1 200 OK\"\n",
      "INFO:httpx:HTTP Request: GET https://api.replicate.com/v1/predictions/xfxp4etbx6cd5sci3x5g2jkiv4 \"HTTP/1.1 200 OK\"\n",
      "INFO:httpx:HTTP Request: GET https://api.replicate.com/v1/predictions/xfxp4etbx6cd5sci3x5g2jkiv4 \"HTTP/1.1 200 OK\"\n",
      "INFO:httpx:HTTP Request: GET https://api.replicate.com/v1/predictions/xfxp4etbx6cd5sci3x5g2jkiv4 \"HTTP/1.1 200 OK\"\n",
      "INFO:httpx:HTTP Request: GET https://api.replicate.com/v1/predictions/xfxp4etbx6cd5sci3x5g2jkiv4 \"HTTP/1.1 200 OK\"\n",
      "INFO:httpx:HTTP Request: GET https://api.replicate.com/v1/predictions/xfxp4etbx6cd5sci3x5g2jkiv4 \"HTTP/1.1 200 OK\"\n",
      "INFO:httpx:HTTP Request: GET https://api.replicate.com/v1/predictions/xfxp4etbx6cd5sci3x5g2jkiv4 \"HTTP/1.1 200 OK\"\n",
      "INFO:httpx:HTTP Request: GET https://api.replicate.com/v1/predictions/xfxp4etbx6cd5sci3x5g2jkiv4 \"HTTP/1.1 200 OK\"\n",
      "INFO:httpx:HTTP Request: GET https://api.replicate.com/v1/predictions/xfxp4etbx6cd5sci3x5g2jkiv4 \"HTTP/1.1 200 OK\"\n",
      "INFO:httpx:HTTP Request: GET https://api.replicate.com/v1/predictions/xfxp4etbx6cd5sci3x5g2jkiv4 \"HTTP/1.1 200 OK\"\n",
      "INFO:httpx:HTTP Request: GET https://api.replicate.com/v1/predictions/xfxp4etbx6cd5sci3x5g2jkiv4 \"HTTP/1.1 200 OK\"\n",
      "INFO:httpx:HTTP Request: GET https://api.replicate.com/v1/predictions/xfxp4etbx6cd5sci3x5g2jkiv4 \"HTTP/1.1 200 OK\"\n",
      "INFO:httpx:HTTP Request: GET https://api.replicate.com/v1/predictions/xfxp4etbx6cd5sci3x5g2jkiv4 \"HTTP/1.1 200 OK\"\n",
      "INFO:httpx:HTTP Request: GET https://api.replicate.com/v1/predictions/xfxp4etbx6cd5sci3x5g2jkiv4 \"HTTP/1.1 200 OK\"\n",
      "INFO:httpx:HTTP Request: GET https://api.replicate.com/v1/predictions/xfxp4etbx6cd5sci3x5g2jkiv4 \"HTTP/1.1 200 OK\"\n",
      "INFO:httpx:HTTP Request: GET https://api.replicate.com/v1/predictions/xfxp4etbx6cd5sci3x5g2jkiv4 \"HTTP/1.1 200 OK\"\n",
      "INFO:httpx:HTTP Request: GET https://api.replicate.com/v1/predictions/xfxp4etbx6cd5sci3x5g2jkiv4 \"HTTP/1.1 200 OK\"\n",
      "INFO:httpx:HTTP Request: GET https://api.replicate.com/v1/predictions/xfxp4etbx6cd5sci3x5g2jkiv4 \"HTTP/1.1 200 OK\"\n",
      "INFO:httpx:HTTP Request: GET https://api.replicate.com/v1/predictions/xfxp4etbx6cd5sci3x5g2jkiv4 \"HTTP/1.1 200 OK\"\n",
      "INFO:httpx:HTTP Request: GET https://api.replicate.com/v1/predictions/xfxp4etbx6cd5sci3x5g2jkiv4 \"HTTP/1.1 200 OK\"\n",
      "INFO:httpx:HTTP Request: GET https://api.replicate.com/v1/predictions/xfxp4etbx6cd5sci3x5g2jkiv4 \"HTTP/1.1 200 OK\"\n",
      "INFO:httpx:HTTP Request: GET https://api.replicate.com/v1/predictions/xfxp4etbx6cd5sci3x5g2jkiv4 \"HTTP/1.1 200 OK\"\n",
      "INFO:httpx:HTTP Request: GET https://api.replicate.com/v1/predictions/xfxp4etbx6cd5sci3x5g2jkiv4 \"HTTP/1.1 200 OK\"\n",
      "INFO:httpx:HTTP Request: GET https://api.replicate.com/v1/predictions/xfxp4etbx6cd5sci3x5g2jkiv4 \"HTTP/1.1 200 OK\"\n",
      "INFO:httpx:HTTP Request: GET https://api.replicate.com/v1/predictions/xfxp4etbx6cd5sci3x5g2jkiv4 \"HTTP/1.1 200 OK\"\n",
      "INFO:httpx:HTTP Request: GET https://api.replicate.com/v1/predictions/xfxp4etbx6cd5sci3x5g2jkiv4 \"HTTP/1.1 200 OK\"\n",
      "INFO:httpx:HTTP Request: GET https://api.replicate.com/v1/predictions/xfxp4etbx6cd5sci3x5g2jkiv4 \"HTTP/1.1 200 OK\"\n",
      "INFO:httpx:HTTP Request: GET https://api.replicate.com/v1/predictions/xfxp4etbx6cd5sci3x5g2jkiv4 \"HTTP/1.1 200 OK\"\n",
      "INFO:httpx:HTTP Request: GET https://api.replicate.com/v1/predictions/xfxp4etbx6cd5sci3x5g2jkiv4 \"HTTP/1.1 200 OK\"\n",
      "INFO:httpx:HTTP Request: GET https://api.replicate.com/v1/predictions/xfxp4etbx6cd5sci3x5g2jkiv4 \"HTTP/1.1 200 OK\"\n",
      "INFO:httpx:HTTP Request: GET https://api.replicate.com/v1/predictions/xfxp4etbx6cd5sci3x5g2jkiv4 \"HTTP/1.1 200 OK\"\n",
      "INFO:httpx:HTTP Request: GET https://api.replicate.com/v1/predictions/xfxp4etbx6cd5sci3x5g2jkiv4 \"HTTP/1.1 200 OK\"\n",
      "INFO:httpx:HTTP Request: GET https://api.replicate.com/v1/predictions/xfxp4etbx6cd5sci3x5g2jkiv4 \"HTTP/1.1 200 OK\"\n",
      "INFO:httpx:HTTP Request: GET https://api.replicate.com/v1/predictions/xfxp4etbx6cd5sci3x5g2jkiv4 \"HTTP/1.1 200 OK\"\n",
      "INFO:httpx:HTTP Request: GET https://api.replicate.com/v1/predictions/xfxp4etbx6cd5sci3x5g2jkiv4 \"HTTP/1.1 200 OK\"\n",
      "INFO:httpx:HTTP Request: GET https://api.replicate.com/v1/predictions/xfxp4etbx6cd5sci3x5g2jkiv4 \"HTTP/1.1 200 OK\"\n",
      "INFO:httpx:HTTP Request: GET https://api.replicate.com/v1/predictions/xfxp4etbx6cd5sci3x5g2jkiv4 \"HTTP/1.1 200 OK\"\n",
      "INFO:httpx:HTTP Request: GET https://api.replicate.com/v1/predictions/xfxp4etbx6cd5sci3x5g2jkiv4 \"HTTP/1.1 200 OK\"\n",
      "INFO:httpx:HTTP Request: GET https://api.replicate.com/v1/predictions/xfxp4etbx6cd5sci3x5g2jkiv4 \"HTTP/1.1 200 OK\"\n",
      "INFO:httpx:HTTP Request: GET https://api.replicate.com/v1/predictions/xfxp4etbx6cd5sci3x5g2jkiv4 \"HTTP/1.1 200 OK\"\n",
      "INFO:httpx:HTTP Request: GET https://api.replicate.com/v1/predictions/xfxp4etbx6cd5sci3x5g2jkiv4 \"HTTP/1.1 200 OK\"\n",
      "INFO:httpx:HTTP Request: GET https://api.replicate.com/v1/predictions/xfxp4etbx6cd5sci3x5g2jkiv4 \"HTTP/1.1 200 OK\"\n",
      "INFO:httpx:HTTP Request: GET https://api.replicate.com/v1/predictions/xfxp4etbx6cd5sci3x5g2jkiv4 \"HTTP/1.1 200 OK\"\n",
      "INFO:httpx:HTTP Request: GET https://api.replicate.com/v1/predictions/xfxp4etbx6cd5sci3x5g2jkiv4 \"HTTP/1.1 200 OK\"\n",
      "INFO:httpx:HTTP Request: GET https://api.replicate.com/v1/predictions/xfxp4etbx6cd5sci3x5g2jkiv4 \"HTTP/1.1 200 OK\"\n",
      "INFO:httpx:HTTP Request: GET https://api.replicate.com/v1/predictions/xfxp4etbx6cd5sci3x5g2jkiv4 \"HTTP/1.1 200 OK\"\n",
      "INFO:httpx:HTTP Request: GET https://api.replicate.com/v1/predictions/xfxp4etbx6cd5sci3x5g2jkiv4 \"HTTP/1.1 200 OK\"\n",
      "INFO:httpx:HTTP Request: GET https://api.replicate.com/v1/predictions/xfxp4etbx6cd5sci3x5g2jkiv4 \"HTTP/1.1 200 OK\"\n",
      "INFO:httpx:HTTP Request: GET https://api.replicate.com/v1/predictions/xfxp4etbx6cd5sci3x5g2jkiv4 \"HTTP/1.1 200 OK\"\n",
      "INFO:httpx:HTTP Request: GET https://api.replicate.com/v1/predictions/xfxp4etbx6cd5sci3x5g2jkiv4 \"HTTP/1.1 200 OK\"\n",
      "INFO:httpx:HTTP Request: GET https://api.replicate.com/v1/predictions/xfxp4etbx6cd5sci3x5g2jkiv4 \"HTTP/1.1 200 OK\"\n",
      "INFO:httpx:HTTP Request: GET https://api.replicate.com/v1/predictions/xfxp4etbx6cd5sci3x5g2jkiv4 \"HTTP/1.1 200 OK\"\n",
      "INFO:httpx:HTTP Request: GET https://api.replicate.com/v1/predictions/xfxp4etbx6cd5sci3x5g2jkiv4 \"HTTP/1.1 200 OK\"\n",
      "INFO:httpx:HTTP Request: GET https://api.replicate.com/v1/predictions/xfxp4etbx6cd5sci3x5g2jkiv4 \"HTTP/1.1 200 OK\"\n",
      "INFO:httpx:HTTP Request: GET https://api.replicate.com/v1/predictions/xfxp4etbx6cd5sci3x5g2jkiv4 \"HTTP/1.1 200 OK\"\n",
      "INFO:httpx:HTTP Request: GET https://api.replicate.com/v1/predictions/xfxp4etbx6cd5sci3x5g2jkiv4 \"HTTP/1.1 200 OK\"\n",
      "INFO:httpx:HTTP Request: GET https://api.replicate.com/v1/predictions/xfxp4etbx6cd5sci3x5g2jkiv4 \"HTTP/1.1 200 OK\"\n",
      "INFO:httpx:HTTP Request: GET https://api.replicate.com/v1/predictions/xfxp4etbx6cd5sci3x5g2jkiv4 \"HTTP/1.1 200 OK\"\n",
      "INFO:httpx:HTTP Request: GET https://api.replicate.com/v1/predictions/xfxp4etbx6cd5sci3x5g2jkiv4 \"HTTP/1.1 200 OK\"\n",
      "INFO:httpx:HTTP Request: GET https://api.replicate.com/v1/predictions/xfxp4etbx6cd5sci3x5g2jkiv4 \"HTTP/1.1 200 OK\"\n",
      "INFO:httpx:HTTP Request: GET https://api.replicate.com/v1/predictions/xfxp4etbx6cd5sci3x5g2jkiv4 \"HTTP/1.1 200 OK\"\n",
      "INFO:httpx:HTTP Request: GET https://api.replicate.com/v1/predictions/xfxp4etbx6cd5sci3x5g2jkiv4 \"HTTP/1.1 200 OK\"\n",
      "INFO:httpx:HTTP Request: GET https://api.replicate.com/v1/predictions/xfxp4etbx6cd5sci3x5g2jkiv4 \"HTTP/1.1 200 OK\"\n",
      "INFO:httpx:HTTP Request: GET https://api.replicate.com/v1/predictions/xfxp4etbx6cd5sci3x5g2jkiv4 \"HTTP/1.1 200 OK\"\n",
      "INFO:httpx:HTTP Request: GET https://api.replicate.com/v1/predictions/xfxp4etbx6cd5sci3x5g2jkiv4 \"HTTP/1.1 200 OK\"\n",
      "INFO:httpx:HTTP Request: GET https://api.replicate.com/v1/predictions/xfxp4etbx6cd5sci3x5g2jkiv4 \"HTTP/1.1 200 OK\"\n",
      "INFO:httpx:HTTP Request: GET https://api.replicate.com/v1/predictions/xfxp4etbx6cd5sci3x5g2jkiv4 \"HTTP/1.1 200 OK\"\n",
      "INFO:root:Image generated successfully.\n",
      "INFO:root:Image saved to ../generated_assets/storyboard_1/frame_1/frame1_background.png\n"
     ]
    },
    {
     "name": "stdout",
     "output_type": "stream",
     "text": [
      "\u001b[36;1m\u001b[1;3m../generated_assets/storyboard_1/frame_1/frame1_background.png\u001b[0m"
     ]
    },
    {
     "name": "stderr",
     "output_type": "stream",
     "text": [
      "INFO:httpx:HTTP Request: POST https://api.openai.com/v1/chat/completions \"HTTP/1.1 200 OK\"\n"
     ]
    },
    {
     "name": "stdout",
     "output_type": "stream",
     "text": [
      "\u001b[32;1m\u001b[1;3m\n",
      "Invoking: `generate_image` with `{'prompt': 'A bold, playful button design pulsating to the rhythm of a subtle background beat, positioned at the bottom of the screen, no text.', 'image_name': 'frame1_cta_button'}`\n",
      "\n",
      "\n",
      "\u001b[0m"
     ]
    },
    {
     "name": "stderr",
     "output_type": "stream",
     "text": [
      "INFO:httpx:HTTP Request: POST https://api.replicate.com/v1/predictions \"HTTP/1.1 201 Created\"\n",
      "INFO:httpx:HTTP Request: GET https://api.replicate.com/v1/models/konieshadow/fooocus-api-anime/versions/a750658f54c4f8bec1c8b0e352ce2666c22f2f919d391688ff4fc16e48b3a28f \"HTTP/1.1 200 OK\"\n",
      "INFO:httpx:HTTP Request: GET https://api.replicate.com/v1/predictions/x6krzo3bvs47hqjofhm7o66s4y \"HTTP/1.1 200 OK\"\n",
      "INFO:httpx:HTTP Request: GET https://api.replicate.com/v1/predictions/x6krzo3bvs47hqjofhm7o66s4y \"HTTP/1.1 200 OK\"\n",
      "INFO:httpx:HTTP Request: GET https://api.replicate.com/v1/predictions/x6krzo3bvs47hqjofhm7o66s4y \"HTTP/1.1 200 OK\"\n",
      "INFO:httpx:HTTP Request: GET https://api.replicate.com/v1/predictions/x6krzo3bvs47hqjofhm7o66s4y \"HTTP/1.1 200 OK\"\n",
      "INFO:httpx:HTTP Request: GET https://api.replicate.com/v1/predictions/x6krzo3bvs47hqjofhm7o66s4y \"HTTP/1.1 200 OK\"\n",
      "INFO:httpx:HTTP Request: GET https://api.replicate.com/v1/predictions/x6krzo3bvs47hqjofhm7o66s4y \"HTTP/1.1 200 OK\"\n",
      "INFO:root:Image generated successfully.\n",
      "INFO:root:Image saved to ../generated_assets/storyboard_1/frame_1/frame1_cta_button.png\n"
     ]
    },
    {
     "name": "stdout",
     "output_type": "stream",
     "text": [
      "\u001b[36;1m\u001b[1;3m../generated_assets/storyboard_1/frame_1/frame1_cta_button.png\u001b[0m"
     ]
    },
    {
     "name": "stderr",
     "output_type": "stream",
     "text": [
      "INFO:httpx:HTTP Request: POST https://api.openai.com/v1/chat/completions \"HTTP/1.1 200 OK\"\n"
     ]
    },
    {
     "name": "stdout",
     "output_type": "stream",
     "text": [
      "\u001b[32;1m\u001b[1;3mHere are the generated asset images for storyboard frame 1:\n",
      "\n",
      "```json\n",
      "{\n",
      "  \"Background\": \"../generated_assets/storyboard_1/frame_1/frame1_background.png\",\n",
      "  \"CTA Button\": \"../generated_assets/storyboard_1/frame_1/frame1_cta_button.png\"\n",
      "}\n",
      "```\u001b[0m\n",
      "\n",
      "\u001b[1m> Finished chain.\u001b[0m\n"
     ]
    }
   ],
   "source": [
    "response = agent_executor.run(prompt_1)"
   ]
  },
  {
   "cell_type": "code",
   "execution_count": 22,
   "metadata": {},
   "outputs": [],
   "source": [
    "prompt_2 = get_prompt(2, storyboard_frame_2)"
   ]
  },
  {
   "cell_type": "code",
   "execution_count": 23,
   "metadata": {},
   "outputs": [
    {
     "name": "stdout",
     "output_type": "stream",
     "text": [
      "\n",
      "\n",
      "\u001b[1m> Entering new AgentExecutor chain...\u001b[0m\n"
     ]
    },
    {
     "name": "stderr",
     "output_type": "stream",
     "text": [
      "INFO:httpx:HTTP Request: POST https://api.openai.com/v1/chat/completions \"HTTP/1.1 200 OK\"\n"
     ]
    },
    {
     "name": "stdout",
     "output_type": "stream",
     "text": [
      "\u001b[32;1m\u001b[1;3m\n",
      "Invoking: `generate_image` with `{'prompt': 'A 3D animated Coca-Cola bottle transforming into a DJ turntable with vibrant colors and a sleek, modern design. No text.', 'image_name': 'frame1_coca_cola_bottle_to_dj_turntable'}`\n",
      "\n",
      "\n",
      "\u001b[0m"
     ]
    },
    {
     "name": "stderr",
     "output_type": "stream",
     "text": [
      "INFO:httpx:HTTP Request: POST https://api.replicate.com/v1/predictions \"HTTP/1.1 201 Created\"\n",
      "INFO:httpx:HTTP Request: GET https://api.replicate.com/v1/models/konieshadow/fooocus-api-anime/versions/a750658f54c4f8bec1c8b0e352ce2666c22f2f919d391688ff4fc16e48b3a28f \"HTTP/1.1 200 OK\"\n",
      "INFO:httpx:HTTP Request: GET https://api.replicate.com/v1/predictions/hsbnitdbfux37vgjh7shxcmi4e \"HTTP/1.1 200 OK\"\n",
      "INFO:httpx:HTTP Request: GET https://api.replicate.com/v1/predictions/hsbnitdbfux37vgjh7shxcmi4e \"HTTP/1.1 200 OK\"\n",
      "INFO:httpx:HTTP Request: GET https://api.replicate.com/v1/predictions/hsbnitdbfux37vgjh7shxcmi4e \"HTTP/1.1 200 OK\"\n",
      "INFO:httpx:HTTP Request: GET https://api.replicate.com/v1/predictions/hsbnitdbfux37vgjh7shxcmi4e \"HTTP/1.1 200 OK\"\n",
      "INFO:httpx:HTTP Request: GET https://api.replicate.com/v1/predictions/hsbnitdbfux37vgjh7shxcmi4e \"HTTP/1.1 200 OK\"\n",
      "INFO:httpx:HTTP Request: GET https://api.replicate.com/v1/predictions/hsbnitdbfux37vgjh7shxcmi4e \"HTTP/1.1 200 OK\"\n",
      "INFO:root:Image generated successfully.\n",
      "INFO:root:Image saved to ../generated_assets/storyboard_1/frame_1/frame1_coca_cola_bottle_to_dj_turntable.png\n"
     ]
    },
    {
     "name": "stdout",
     "output_type": "stream",
     "text": [
      "\u001b[36;1m\u001b[1;3m../generated_assets/storyboard_1/frame_1/frame1_coca_cola_bottle_to_dj_turntable.png\u001b[0m"
     ]
    },
    {
     "name": "stderr",
     "output_type": "stream",
     "text": [
      "INFO:httpx:HTTP Request: POST https://api.openai.com/v1/chat/completions \"HTTP/1.1 200 OK\"\n"
     ]
    },
    {
     "name": "stdout",
     "output_type": "stream",
     "text": [
      "\u001b[32;1m\u001b[1;3m\n",
      "Invoking: `generate_image` with `{'prompt': 'A digital beat mixer interface with touch-responsive icons of Latin American instruments like congas, claves, and maracas, set against a colorful background. The icons should have a glossy texture and the background should be a gradient of warm colors like red, orange, and yellow to represent the energy of Latin music. No text.', 'image_name': 'frame2_interactive_elements'}`\n",
      "\n",
      "\n",
      "\u001b[0m"
     ]
    },
    {
     "name": "stderr",
     "output_type": "stream",
     "text": [
      "INFO:httpx:HTTP Request: POST https://api.replicate.com/v1/predictions \"HTTP/1.1 201 Created\"\n",
      "INFO:httpx:HTTP Request: GET https://api.replicate.com/v1/models/konieshadow/fooocus-api-anime/versions/a750658f54c4f8bec1c8b0e352ce2666c22f2f919d391688ff4fc16e48b3a28f \"HTTP/1.1 200 OK\"\n",
      "INFO:httpx:HTTP Request: GET https://api.replicate.com/v1/predictions/cn74xylb7blxm5ieumjt7uakam \"HTTP/1.1 200 OK\"\n",
      "INFO:httpx:HTTP Request: GET https://api.replicate.com/v1/predictions/cn74xylb7blxm5ieumjt7uakam \"HTTP/1.1 200 OK\"\n",
      "INFO:httpx:HTTP Request: GET https://api.replicate.com/v1/predictions/cn74xylb7blxm5ieumjt7uakam \"HTTP/1.1 200 OK\"\n",
      "INFO:httpx:HTTP Request: GET https://api.replicate.com/v1/predictions/cn74xylb7blxm5ieumjt7uakam \"HTTP/1.1 200 OK\"\n",
      "INFO:httpx:HTTP Request: GET https://api.replicate.com/v1/predictions/cn74xylb7blxm5ieumjt7uakam \"HTTP/1.1 200 OK\"\n",
      "INFO:httpx:HTTP Request: GET https://api.replicate.com/v1/predictions/cn74xylb7blxm5ieumjt7uakam \"HTTP/1.1 200 OK\"\n",
      "INFO:httpx:HTTP Request: GET https://api.replicate.com/v1/predictions/cn74xylb7blxm5ieumjt7uakam \"HTTP/1.1 200 OK\"\n",
      "INFO:root:Image generated successfully.\n",
      "INFO:root:Image saved to ../generated_assets/storyboard_1/frame_1/frame2_interactive_elements.png\n"
     ]
    },
    {
     "name": "stdout",
     "output_type": "stream",
     "text": [
      "\u001b[36;1m\u001b[1;3m../generated_assets/storyboard_1/frame_1/frame2_interactive_elements.png\u001b[0m"
     ]
    },
    {
     "name": "stderr",
     "output_type": "stream",
     "text": [
      "INFO:httpx:HTTP Request: POST https://api.openai.com/v1/chat/completions \"HTTP/1.1 200 OK\"\n"
     ]
    },
    {
     "name": "stdout",
     "output_type": "stream",
     "text": [
      "\u001b[32;1m\u001b[1;3m\n",
      "Invoking: `generate_image` with `{'prompt': 'An abstract, dynamic background simulating sound waves in motion, with a color palette of vibrant blues and purples to represent the rhythm and flow of music. The texture should be smooth with a visual effect that suggests movement in response to sound. No text.', 'image_name': 'frame2_background'}`\n",
      "\n",
      "\n",
      "\u001b[0m"
     ]
    },
    {
     "name": "stderr",
     "output_type": "stream",
     "text": [
      "INFO:httpx:HTTP Request: POST https://api.replicate.com/v1/predictions \"HTTP/1.1 201 Created\"\n",
      "INFO:httpx:HTTP Request: GET https://api.replicate.com/v1/models/konieshadow/fooocus-api-anime/versions/a750658f54c4f8bec1c8b0e352ce2666c22f2f919d391688ff4fc16e48b3a28f \"HTTP/1.1 200 OK\"\n",
      "INFO:httpx:HTTP Request: GET https://api.replicate.com/v1/predictions/sfee4mtb7brby7lhu4rurk5ixu \"HTTP/1.1 200 OK\"\n",
      "INFO:httpx:HTTP Request: GET https://api.replicate.com/v1/predictions/sfee4mtb7brby7lhu4rurk5ixu \"HTTP/1.1 200 OK\"\n",
      "INFO:httpx:HTTP Request: GET https://api.replicate.com/v1/predictions/sfee4mtb7brby7lhu4rurk5ixu \"HTTP/1.1 200 OK\"\n",
      "INFO:httpx:HTTP Request: GET https://api.replicate.com/v1/predictions/sfee4mtb7brby7lhu4rurk5ixu \"HTTP/1.1 200 OK\"\n",
      "INFO:httpx:HTTP Request: GET https://api.replicate.com/v1/predictions/sfee4mtb7brby7lhu4rurk5ixu \"HTTP/1.1 200 OK\"\n",
      "INFO:root:Image generated successfully.\n",
      "INFO:root:Image saved to ../generated_assets/storyboard_1/frame_1/frame2_background.png\n"
     ]
    },
    {
     "name": "stdout",
     "output_type": "stream",
     "text": [
      "\u001b[36;1m\u001b[1;3m../generated_assets/storyboard_1/frame_1/frame2_background.png\u001b[0m"
     ]
    },
    {
     "name": "stderr",
     "output_type": "stream",
     "text": [
      "INFO:httpx:HTTP Request: POST https://api.openai.com/v1/chat/completions \"HTTP/1.1 200 OK\"\n"
     ]
    },
    {
     "name": "stdout",
     "output_type": "stream",
     "text": [
      "\u001b[32;1m\u001b[1;3mHere is the JSON object containing the pair of asset categories with their respective image file paths for storyboard frame 2:\n",
      "\n",
      "```json\n",
      "{\n",
      "  \"Interactive Elements\": \"../generated_assets/storyboard_1/frame_1/frame2_interactive_elements.png\",\n",
      "  \"Background\": \"../generated_assets/storyboard_1/frame_1/frame2_background.png\"\n",
      "}\n",
      "```\u001b[0m\n",
      "\n",
      "\u001b[1m> Finished chain.\u001b[0m\n"
     ]
    }
   ],
   "source": [
    "response_2 = agent_executor.run(prompt_2)"
   ]
  },
  {
   "cell_type": "code",
   "execution_count": 24,
   "metadata": {},
   "outputs": [],
   "source": [
    "prompt_3 = get_prompt(3, storyboard_frame_3)"
   ]
  },
  {
   "cell_type": "code",
   "execution_count": 25,
   "metadata": {},
   "outputs": [
    {
     "name": "stdout",
     "output_type": "stream",
     "text": [
      "\n",
      "\n",
      "\u001b[1m> Entering new AgentExecutor chain...\u001b[0m\n"
     ]
    },
    {
     "name": "stderr",
     "output_type": "stream",
     "text": [
      "INFO:httpx:HTTP Request: POST https://api.openai.com/v1/chat/completions \"HTTP/1.1 200 OK\"\n"
     ]
    },
    {
     "name": "stdout",
     "output_type": "stream",
     "text": [
      "\u001b[32;1m\u001b[1;3m\n",
      "Invoking: `generate_image` with `{'prompt': 'Dynamic abstract sound waves in sync with user interactions, no text', 'image_name': 'background_frame3'}`\n",
      "\n",
      "\n",
      "\u001b[0m"
     ]
    },
    {
     "name": "stderr",
     "output_type": "stream",
     "text": [
      "INFO:httpx:HTTP Request: POST https://api.replicate.com/v1/predictions \"HTTP/1.1 201 Created\"\n",
      "INFO:httpx:HTTP Request: GET https://api.replicate.com/v1/models/konieshadow/fooocus-api-anime/versions/a750658f54c4f8bec1c8b0e352ce2666c22f2f919d391688ff4fc16e48b3a28f \"HTTP/1.1 200 OK\"\n",
      "INFO:httpx:HTTP Request: GET https://api.replicate.com/v1/predictions/c6vfsd3bskjoemf4xnloiskaqq \"HTTP/1.1 200 OK\"\n",
      "INFO:httpx:HTTP Request: GET https://api.replicate.com/v1/predictions/c6vfsd3bskjoemf4xnloiskaqq \"HTTP/1.1 200 OK\"\n",
      "INFO:httpx:HTTP Request: GET https://api.replicate.com/v1/predictions/c6vfsd3bskjoemf4xnloiskaqq \"HTTP/1.1 200 OK\"\n",
      "INFO:httpx:HTTP Request: GET https://api.replicate.com/v1/predictions/c6vfsd3bskjoemf4xnloiskaqq \"HTTP/1.1 200 OK\"\n",
      "INFO:httpx:HTTP Request: GET https://api.replicate.com/v1/predictions/c6vfsd3bskjoemf4xnloiskaqq \"HTTP/1.1 200 OK\"\n",
      "INFO:httpx:HTTP Request: GET https://api.replicate.com/v1/predictions/c6vfsd3bskjoemf4xnloiskaqq \"HTTP/1.1 200 OK\"\n",
      "INFO:root:Image generated successfully.\n",
      "INFO:root:Image saved to ../generated_assets/storyboard_1/frame_1/background_frame3.png\n"
     ]
    },
    {
     "name": "stdout",
     "output_type": "stream",
     "text": [
      "\u001b[36;1m\u001b[1;3m../generated_assets/storyboard_1/frame_1/background_frame3.png\u001b[0m"
     ]
    },
    {
     "name": "stderr",
     "output_type": "stream",
     "text": [
      "INFO:httpx:HTTP Request: POST https://api.openai.com/v1/chat/completions \"HTTP/1.1 200 OK\"\n"
     ]
    },
    {
     "name": "stdout",
     "output_type": "stream",
     "text": [
      "\u001b[32;1m\u001b[1;3m\n",
      "Invoking: `generate_image` with `{'prompt': 'Kaleidoscope of vibrant colors dancing across the screen, representing a fusion of Latin American cultures and music, no text', 'image_name': 'animation_frame3'}`\n",
      "\n",
      "\n",
      "\u001b[0m"
     ]
    },
    {
     "name": "stderr",
     "output_type": "stream",
     "text": [
      "INFO:httpx:HTTP Request: POST https://api.replicate.com/v1/predictions \"HTTP/1.1 201 Created\"\n",
      "INFO:httpx:HTTP Request: GET https://api.replicate.com/v1/models/konieshadow/fooocus-api-anime/versions/a750658f54c4f8bec1c8b0e352ce2666c22f2f919d391688ff4fc16e48b3a28f \"HTTP/1.1 200 OK\"\n",
      "INFO:httpx:HTTP Request: GET https://api.replicate.com/v1/predictions/xz252plbrlddlljtv7g4wdlalu \"HTTP/1.1 200 OK\"\n",
      "INFO:httpx:HTTP Request: GET https://api.replicate.com/v1/predictions/xz252plbrlddlljtv7g4wdlalu \"HTTP/1.1 200 OK\"\n",
      "INFO:httpx:HTTP Request: GET https://api.replicate.com/v1/predictions/xz252plbrlddlljtv7g4wdlalu \"HTTP/1.1 200 OK\"\n",
      "INFO:httpx:HTTP Request: GET https://api.replicate.com/v1/predictions/xz252plbrlddlljtv7g4wdlalu \"HTTP/1.1 200 OK\"\n",
      "INFO:httpx:HTTP Request: GET https://api.replicate.com/v1/predictions/xz252plbrlddlljtv7g4wdlalu \"HTTP/1.1 200 OK\"\n",
      "INFO:httpx:HTTP Request: GET https://api.replicate.com/v1/predictions/xz252plbrlddlljtv7g4wdlalu \"HTTP/1.1 200 OK\"\n",
      "INFO:root:Image generated successfully.\n",
      "INFO:root:Image saved to ../generated_assets/storyboard_1/frame_1/animation_frame3.png\n"
     ]
    },
    {
     "name": "stdout",
     "output_type": "stream",
     "text": [
      "\u001b[36;1m\u001b[1;3m../generated_assets/storyboard_1/frame_1/animation_frame3.png\u001b[0m"
     ]
    },
    {
     "name": "stderr",
     "output_type": "stream",
     "text": [
      "INFO:httpx:HTTP Request: POST https://api.openai.com/v1/chat/completions \"HTTP/1.1 200 OK\"\n"
     ]
    },
    {
     "name": "stdout",
     "output_type": "stream",
     "text": [
      "\u001b[32;1m\u001b[1;3m\n",
      "Invoking: `generate_image` with `{'prompt': \"A pulsating 'Play Your Mix' button, heartbeat-like animation, vibrant and inviting, no text\", 'image_name': 'cta_button_frame3'}`\n",
      "\n",
      "\n",
      "\u001b[0m"
     ]
    },
    {
     "name": "stderr",
     "output_type": "stream",
     "text": [
      "INFO:httpx:HTTP Request: POST https://api.replicate.com/v1/predictions \"HTTP/1.1 201 Created\"\n",
      "INFO:httpx:HTTP Request: GET https://api.replicate.com/v1/models/konieshadow/fooocus-api-anime/versions/a750658f54c4f8bec1c8b0e352ce2666c22f2f919d391688ff4fc16e48b3a28f \"HTTP/1.1 200 OK\"\n",
      "INFO:httpx:HTTP Request: GET https://api.replicate.com/v1/predictions/63fngq3b6iy5dxebhvqkvvi4lu \"HTTP/1.1 200 OK\"\n",
      "INFO:httpx:HTTP Request: GET https://api.replicate.com/v1/predictions/63fngq3b6iy5dxebhvqkvvi4lu \"HTTP/1.1 200 OK\"\n",
      "INFO:httpx:HTTP Request: GET https://api.replicate.com/v1/predictions/63fngq3b6iy5dxebhvqkvvi4lu \"HTTP/1.1 200 OK\"\n",
      "INFO:httpx:HTTP Request: GET https://api.replicate.com/v1/predictions/63fngq3b6iy5dxebhvqkvvi4lu \"HTTP/1.1 200 OK\"\n",
      "INFO:httpx:HTTP Request: GET https://api.replicate.com/v1/predictions/63fngq3b6iy5dxebhvqkvvi4lu \"HTTP/1.1 200 OK\"\n",
      "INFO:httpx:HTTP Request: GET https://api.replicate.com/v1/predictions/63fngq3b6iy5dxebhvqkvvi4lu \"HTTP/1.1 200 OK\"\n",
      "INFO:root:Image generated successfully.\n",
      "INFO:root:Image saved to ../generated_assets/storyboard_1/frame_1/cta_button_frame3.png\n"
     ]
    },
    {
     "name": "stdout",
     "output_type": "stream",
     "text": [
      "\u001b[36;1m\u001b[1;3m../generated_assets/storyboard_1/frame_1/cta_button_frame3.png\u001b[0m"
     ]
    },
    {
     "name": "stderr",
     "output_type": "stream",
     "text": [
      "INFO:httpx:HTTP Request: POST https://api.openai.com/v1/chat/completions \"HTTP/1.1 200 OK\"\n"
     ]
    },
    {
     "name": "stdout",
     "output_type": "stream",
     "text": [
      "\u001b[32;1m\u001b[1;3mHere is the JSON object containing the pairs of asset categories with their corresponding image file paths for storyboard frame 3:\n",
      "\n",
      "```json\n",
      "{\n",
      "  \"Background\": \"../generated_assets/storyboard_1/frame_1/background_frame3.png\",\n",
      "  \"Animation\": \"../generated_assets/storyboard_1/frame_1/animation_frame3.png\",\n",
      "  \"CTA Button\": \"../generated_assets/storyboard_1/frame_1/cta_button_frame3.png\"\n",
      "}\n",
      "```\u001b[0m\n",
      "\n",
      "\u001b[1m> Finished chain.\u001b[0m\n"
     ]
    }
   ],
   "source": [
    "response_3 = agent_executor.run(prompt_3)"
   ]
  },
  {
   "cell_type": "markdown",
   "metadata": {},
   "source": [
    "### Frame Generation"
   ]
  },
  {
   "cell_type": "code",
   "execution_count": 26,
   "metadata": {},
   "outputs": [],
   "source": [
    "def get_frame_generation_prompt(asset_response):\n",
    "    prompt = f'''\n",
    "        you are advertisement frame generator. the advertisement assets are smallest components when combined they \n",
    "        create a frame, and frames combine create a storyboard for the advertisemet. \n",
    "        Given \n",
    "            - the storyboard concept: {storyboard_concept} \n",
    "            - the storyboard implementation: {storyboard_implementation}\n",
    "            - the storyboard explanation:  {storyboard_explanation}\n",
    "        \n",
    "        \n",
    "        I want you to combine the assets for the frame you are going to create {asset_response}\n",
    "        to combine the \n",
    "\n",
    "        I want you to generate asset images for storyboard  frame 1\n",
    "        Given storyboard_frame_{frame_number} : {storyboard_frame}, the the storyboard frame_{frame_number} contains the asset category\n",
    "        paired with the prompt that generate the image. Given the content, update the prompts to\n",
    "        become more effective and direct, specify the spcific color to be used, compnents, texture and make the prompt that\n",
    "        not to generate image including any text, no text should be in the image generation.\n",
    "        return me a json object of pair of asset category with image file path\n",
    "    '''\n",
    "    return prompt"
   ]
  },
  {
   "cell_type": "code",
   "execution_count": null,
   "metadata": {},
   "outputs": [],
   "source": [
    "asset_response_frame_1 = {\n",
    "  \"Background\": \"../generated_assets/storyboard_1/frame_1/frame1_background.png\",\n",
    "  \"CTA Button\": \"../generated_assets/storyboard_1/frame_1/frame1_cta_button.png\"\n",
    "}"
   ]
  },
  {
   "cell_type": "markdown",
   "metadata": {},
   "source": [
    "### Storyboard Generation"
   ]
  }
 ],
 "metadata": {
  "kernelspec": {
   "display_name": "week10",
   "language": "python",
   "name": "python3"
  },
  "language_info": {
   "codemirror_mode": {
    "name": "ipython",
    "version": 3
   },
   "file_extension": ".py",
   "mimetype": "text/x-python",
   "name": "python",
   "nbconvert_exporter": "python",
   "pygments_lexer": "ipython3",
   "version": "3.8.2"
  }
 },
 "nbformat": 4,
 "nbformat_minor": 2
}
