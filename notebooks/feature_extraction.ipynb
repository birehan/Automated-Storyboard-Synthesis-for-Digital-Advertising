{
 "cells": [
  {
   "cell_type": "markdown",
   "metadata": {},
   "source": [
    "## Feature extraction from image for yolo model"
   ]
  },
  {
   "cell_type": "markdown",
   "metadata": {},
   "source": [
    "### Import packages"
   ]
  },
  {
   "cell_type": "code",
   "execution_count": 1,
   "metadata": {},
   "outputs": [],
   "source": [
    "import os\n",
    "import sys\n",
    "from IPython.display import Image\n",
    "\n",
    "sys.path.append(os.path.abspath(os.path.join('../scripts')))"
   ]
  },
  {
   "cell_type": "code",
   "execution_count": 2,
   "metadata": {},
   "outputs": [],
   "source": [
    "from extractor_pipeline import ExtractorPipeline\n",
    "from image_analysis_utils import get_image_dimensions\n",
    "extraction_pip = ExtractorPipeline(data_folder=\"../data/Challenge_Data/Assets/*\")\n"
   ]
  },
  {
   "cell_type": "code",
   "execution_count": 11,
   "metadata": {},
   "outputs": [
    {
     "name": "stdout",
     "output_type": "stream",
     "text": [
      "905\n",
      "count: 171\n"
     ]
    }
   ],
   "source": [
    "df = extraction_pip.logo_extractor()"
   ]
  },
  {
   "cell_type": "code",
   "execution_count": 16,
   "metadata": {},
   "outputs": [
    {
     "name": "stdout",
     "output_type": "stream",
     "text": [
      "None\n"
     ]
    }
   ],
   "source": [
    "print(df)"
   ]
  },
  {
   "cell_type": "code",
   "execution_count": 9,
   "metadata": {},
   "outputs": [
    {
     "ename": "AttributeError",
     "evalue": "'NoneType' object has no attribute 'iterrows'",
     "output_type": "error",
     "traceback": [
      "\u001b[0;31m---------------------------------------------------------------------------\u001b[0m",
      "\u001b[0;31mAttributeError\u001b[0m                            Traceback (most recent call last)",
      "Cell \u001b[0;32mIn[9], line 8\u001b[0m\n\u001b[1;32m      5\u001b[0m dataset_dir \u001b[38;5;241m=\u001b[39m \u001b[38;5;124m\"\u001b[39m\u001b[38;5;124m../data/dataset\u001b[39m\u001b[38;5;124m\"\u001b[39m\n\u001b[1;32m      6\u001b[0m os\u001b[38;5;241m.\u001b[39mmakedirs(dataset_dir, exist_ok\u001b[38;5;241m=\u001b[39m\u001b[38;5;28;01mTrue\u001b[39;00m)\n\u001b[0;32m----> 8\u001b[0m \u001b[38;5;28;01mfor\u001b[39;00m index, row \u001b[38;5;129;01min\u001b[39;00m \u001b[43mdf\u001b[49m\u001b[38;5;241;43m.\u001b[39;49m\u001b[43miterrows\u001b[49m():\n\u001b[1;32m      9\u001b[0m     image_id \u001b[38;5;241m=\u001b[39m row[\u001b[38;5;124m'\u001b[39m\u001b[38;5;124mid\u001b[39m\u001b[38;5;124m'\u001b[39m]  \u001b[38;5;66;03m# Assuming 'id' column contains the image identifier\u001b[39;00m\n\u001b[1;32m     10\u001b[0m     image_path \u001b[38;5;241m=\u001b[39m \u001b[38;5;124mf\u001b[39m\u001b[38;5;124m\"\u001b[39m\u001b[38;5;124m../data/Challenge_Data/Assets/\u001b[39m\u001b[38;5;132;01m{\u001b[39;00mimage_id\u001b[38;5;132;01m}\u001b[39;00m\u001b[38;5;124m/_preview.png\u001b[39m\u001b[38;5;124m\"\u001b[39m\n",
      "\u001b[0;31mAttributeError\u001b[0m: 'NoneType' object has no attribute 'iterrows'"
     ]
    }
   ],
   "source": [
    "# Iterate over each row in the DataFrame\n",
    "import shutil\n",
    "\n",
    "\n",
    "dataset_dir = \"../data/dataset\"\n",
    "os.makedirs(dataset_dir, exist_ok=True)\n",
    "\n",
    "for index, row in df.iterrows():\n",
    "    image_id = row['id']  # Assuming 'id' column contains the image identifier\n",
    "    image_path = f\"../data/Challenge_Data/Assets/{image_id}/_preview.png\"\n",
    "    annotation_path = os.path.join(dataset_dir, f\"{image_id}.txt\")\n",
    "\n",
    "    # Normalize bounding box coordinates and dimensions\n",
    "    img_w, img_h = get_image_dimensions(image_path)\n",
    "    norm_bbox_xmin = row['logo_tltx'] / img_w\n",
    "    norm_bbox_ymin = row['logo_tlty'] / img_h\n",
    "    norm_bbox_xmax = row['logo_btrx'] / img_w\n",
    "    norm_bbox_ymax = row['logo_btry'] / img_h\n",
    "    norm_bbox_width = row['logo_w'] / img_w\n",
    "    norm_bbox_height = row['logo_h'] / img_h\n",
    "\n",
    "    # Write YOLO format annotation to file\n",
    "    with open(annotation_path, 'w') as f:\n",
    "        f.write(f\"0 {norm_bbox_xmin} {norm_bbox_ymin} {norm_bbox_width} {norm_bbox_height}\\n\")\n",
    "\n",
    "    # Copy image to dataset directory\n",
    "    shutil.copy(image_path, dataset_dir)"
   ]
  }
 ],
 "metadata": {
  "kernelspec": {
   "display_name": "week10",
   "language": "python",
   "name": "python3"
  },
  "language_info": {
   "codemirror_mode": {
    "name": "ipython",
    "version": 3
   },
   "file_extension": ".py",
   "mimetype": "text/x-python",
   "name": "python",
   "nbconvert_exporter": "python",
   "pygments_lexer": "ipython3",
   "version": "3.8.0"
  }
 },
 "nbformat": 4,
 "nbformat_minor": 2
}
