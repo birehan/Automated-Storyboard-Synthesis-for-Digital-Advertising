{
 "cells": [
  {
   "cell_type": "markdown",
   "metadata": {},
   "source": [
    "## Explore the concepts assets and frames"
   ]
  },
  {
   "cell_type": "markdown",
   "metadata": {},
   "source": [
    "### Import packages"
   ]
  },
  {
   "cell_type": "code",
   "execution_count": 3,
   "metadata": {},
   "outputs": [],
   "source": [
    "import pandas as pd\n",
    "import matplotlib.pyplot as plt\n",
    "import seaborn as sns"
   ]
  },
  {
   "cell_type": "markdown",
   "metadata": {},
   "source": [
    "### Load the data"
   ]
  },
  {
   "cell_type": "code",
   "execution_count": 4,
   "metadata": {},
   "outputs": [],
   "source": [
    "df = pd.read_json(\"../data/concepts.json\")"
   ]
  },
  {
   "cell_type": "code",
   "execution_count": 5,
   "metadata": {},
   "outputs": [
    {
     "data": {
      "text/html": [
       "<div>\n",
       "<style scoped>\n",
       "    .dataframe tbody tr th:only-of-type {\n",
       "        vertical-align: middle;\n",
       "    }\n",
       "\n",
       "    .dataframe tbody tr th {\n",
       "        vertical-align: top;\n",
       "    }\n",
       "\n",
       "    .dataframe thead th {\n",
       "        text-align: right;\n",
       "    }\n",
       "</style>\n",
       "<table border=\"1\" class=\"dataframe\">\n",
       "  <thead>\n",
       "    <tr style=\"text-align: right;\">\n",
       "      <th></th>\n",
       "      <th>concept</th>\n",
       "      <th>implementation</th>\n",
       "      <th>explanation</th>\n",
       "      <th>asset_suggestions</th>\n",
       "    </tr>\n",
       "  </thead>\n",
       "  <tbody>\n",
       "    <tr>\n",
       "      <th>count</th>\n",
       "      <td>115</td>\n",
       "      <td>115</td>\n",
       "      <td>115</td>\n",
       "      <td>115</td>\n",
       "    </tr>\n",
       "    <tr>\n",
       "      <th>unique</th>\n",
       "      <td>99</td>\n",
       "      <td>111</td>\n",
       "      <td>103</td>\n",
       "      <td>103</td>\n",
       "    </tr>\n",
       "    <tr>\n",
       "      <th>top</th>\n",
       "      <td>The ad begins with a captivating image of the ...</td>\n",
       "      <td>{'frame_1': {'description': 'The ad opens with...</td>\n",
       "      <td>This concept aligns with Adludio's brand ident...</td>\n",
       "      <td>[{'frame_1': {'Background Animation': 'A suspe...</td>\n",
       "    </tr>\n",
       "    <tr>\n",
       "      <th>freq</th>\n",
       "      <td>5</td>\n",
       "      <td>5</td>\n",
       "      <td>5</td>\n",
       "      <td>13</td>\n",
       "    </tr>\n",
       "  </tbody>\n",
       "</table>\n",
       "</div>"
      ],
      "text/plain": [
       "                                                  concept  \\\n",
       "count                                                 115   \n",
       "unique                                                 99   \n",
       "top     The ad begins with a captivating image of the ...   \n",
       "freq                                                    5   \n",
       "\n",
       "                                           implementation  \\\n",
       "count                                                 115   \n",
       "unique                                                111   \n",
       "top     {'frame_1': {'description': 'The ad opens with...   \n",
       "freq                                                    5   \n",
       "\n",
       "                                              explanation  \\\n",
       "count                                                 115   \n",
       "unique                                                103   \n",
       "top     This concept aligns with Adludio's brand ident...   \n",
       "freq                                                    5   \n",
       "\n",
       "                                        asset_suggestions  \n",
       "count                                                 115  \n",
       "unique                                                103  \n",
       "top     [{'frame_1': {'Background Animation': 'A suspe...  \n",
       "freq                                                   13  "
      ]
     },
     "execution_count": 5,
     "metadata": {},
     "output_type": "execute_result"
    }
   ],
   "source": [
    "df.describe()"
   ]
  },
  {
   "cell_type": "code",
   "execution_count": 7,
   "metadata": {},
   "outputs": [
    {
     "name": "stdout",
     "output_type": "stream",
     "text": [
      "<class 'pandas.core.frame.DataFrame'>\n",
      "RangeIndex: 115 entries, 0 to 114\n",
      "Data columns (total 4 columns):\n",
      " #   Column             Non-Null Count  Dtype \n",
      "---  ------             --------------  ----- \n",
      " 0   concept            115 non-null    object\n",
      " 1   implementation     115 non-null    object\n",
      " 2   explanation        115 non-null    object\n",
      " 3   asset_suggestions  115 non-null    object\n",
      "dtypes: object(4)\n",
      "memory usage: 3.7+ KB\n"
     ]
    }
   ],
   "source": [
    "df.info()"
   ]
  },
  {
   "cell_type": "code",
   "execution_count": 11,
   "metadata": {},
   "outputs": [
    {
     "data": {
      "text/plain": [
       "Index(['concept', 'implementation', 'explanation', 'asset_suggestions'], dtype='object')"
      ]
     },
     "execution_count": 11,
     "metadata": {},
     "output_type": "execute_result"
    }
   ],
   "source": [
    "df.columns"
   ]
  },
  {
   "cell_type": "markdown",
   "metadata": {},
   "source": [
    "### Extract all the interaction types of the implementation"
   ]
  },
  {
   "cell_type": "code",
   "execution_count": 38,
   "metadata": {},
   "outputs": [
    {
     "name": "stdout",
     "output_type": "stream",
     "text": [
      "All interaction types: {'Tap', 'Tap and Hold', 'Drag and Drop', 'Swipe', 'Choice Selection', 'None'}\n"
     ]
    }
   ],
   "source": [
    "# Extract all implementation types\n",
    "implementation_types = set()\n",
    "\n",
    "for index, row in df.iterrows():\n",
    "    implementation = row['implementation']\n",
    "    # print(list(implementation.items()))\n",
    "    # break\n",
    "    for frame, details in list(implementation.items()):\n",
    "        # print(details)\n",
    "        if \"interaction_type\" in details and details['interaction_type']:\n",
    "            implementation_types.add(details['interaction_type'])\n",
    "        # else:\n",
    "            # print(details)\n",
    "\n",
    "print(\"All interaction types:\", implementation_types)"
   ]
  },
  {
   "cell_type": "code",
   "execution_count": 54,
   "metadata": {},
   "outputs": [
    {
     "data": {
      "text/plain": [
       "6"
      ]
     },
     "execution_count": 54,
     "metadata": {},
     "output_type": "execute_result"
    }
   ],
   "source": [
    "len(implementation_types)"
   ]
  },
  {
   "cell_type": "markdown",
   "metadata": {},
   "source": [
    "### Extract all asset category types"
   ]
  },
  {
   "cell_type": "code",
   "execution_count": 65,
   "metadata": {},
   "outputs": [
    {
     "name": "stdout",
     "output_type": "stream",
     "text": [
      "[('Background', 530), ('Interactive Element', 340), ('Logo', 287), ('Product Image', 251), ('CTA', 231), ('Text', 184), ('Headline Text', 159), ('Background Image', 146), ('Brand Logo', 117), ('Text Overlay', 77), ('Foreground', 71), ('Animation', 61), ('CTA Button', 54), ('Interaction', 39), ('Engagement Text', 37), ('Engagement Visual', 33), ('Product Close-up', 28), ('Tagline', 26), ('Swipe Indicator', 25), ('CTA Text', 24), ('Interactive Elements', 24), ('Overlay Text', 21), ('Interactive Text', 18), ('Product Feature Highlight', 17), ('Background Animation', 16), ('Main Character', 16), ('Voiceover', 15), ('Product', 15), ('Main Visual', 15), ('Main Product', 15), ('Countdown Timer', 13), ('Video Clips', 13), ('Toolbox', 13), ('Sound Effects', 13), ('Ending Scene', 13), ('Animated Cat', 13), ('Product Highlight', 12), ('Special Offer', 12), ('Adludio Logo', 12), ('Interactive Prompt', 12), ('Image Gallery', 12), ('Main Focus', 12), ('Interactive Button', 11), ('Product Video', 10), ('Background Video', 10), ('Brand Element', 9), ('Foreground Text', 9), ('Creative Element', 9), ('Call-to-Action', 9), ('Product Images', 9), ('Character', 9), ('Feature Highlight Text', 9), ('CTA Image', 9), ('Nutritional Information', 9), ('SmartPack Image', 9), ('Product Feature', 9), ('Background Music', 7), ('Cityscape Background', 7), ('3D Globe', 6), ('Discover More Button', 6), ('Product Showcase', 6), ('Sound', 6), ('Question Text', 6), ('Text Element', 6), ('Swipe Feature', 6), ('Final Scene', 6), ('Closing Text', 6), ('Transition', 6), ('Animated Waves and Grass', 6), ('Scene Image', 6), ('Product Features', 6), ('Testimonial Quote', 6), ('Image', 6), ('Supporting Text', 6), ('SmartPack Product Image', 5), ('Book Now Button', 4), ('Product Range', 4), ('Product Feature Text', 4), ('Destination Highlight', 3), ('Travel Specialist', 3), ('Interactive Icons', 3), ('Destination Text', 3), ('Video', 3), ('Prompt', 3), ('Quiz Element', 3), ('Product Animation', 3), ('Animated Element', 3), ('Audio', 3), ('Interactive 360 View', 3), ('Product Placement', 3), ('Game Interface', 3), ('Celebration Animation', 3), ('Audio Element', 3), ('Brand Reinforcement', 3), ('Product Compatibility', 3), ('Final Image', 3), ('Choice Buttons', 3), ('Destination Reveal', 3), ('Destination Description', 3), ('Travel Specialist Character', 3), ('Insight Text', 3), ('Interactive Choices', 3), ('Summary Text', 3), ('Start Quiz Button', 3), ('Answer Buttons', 3), ('Progress Bar', 3), ('Destination Reveal Text', 3), ('Character Asset', 3), ('CTA Element', 3), ('Start Button', 3), ('360 View', 3), ('Brand Tagline', 3), ('Personalized Itinerary', 3), ('SmartPack', 3), ('Interactive SmartPack', 3), ('Color Transition', 3), ('Zoomed Compartments', 3), ('Animated Cityscape', 3), ('Interactive Menu', 3), ('Experience Description', 3), ('Carousel', 3), ('Animated Icons', 3), ('Ambient Sound', 3), ('Benefit Text', 3), ('Cat Image', 3), ('Cat Enjoying Meal', 3), ('Nutritional Benefits', 3), ('Interactive Transition', 3), ('Interactive Swipe', 3), ('Viewfinder Visual', 3), ('Focus', 3), ('Transitioning Backgrounds', 3), ('Text Overlays', 3), ('Shop Now CTA', 3), ('Information Text', 3), ('Animated Images', 3), ('Animated Sequence', 3), ('Final Product Image', 3), ('Quiz Elements', 3), ('Zoomed Image', 3), ('Animated Video', 3), ('Interactive Demonstration', 3), ('Transition Effect', 3), ('Portrait Shot', 3), ('Action Shot', 3), ('Controller Overlay', 3), ('Victory Animation', 3), ('Informational Text', 3), ('Reward Text', 3), ('Animated Map', 2), ('Cultural Elements', 2), ('Ambient Sounds', 2), ('Destination Journey', 2), ('SmartPack Open Image', 2), ('Character Images', 2), ('Swipeable Scenes', 2), ('Interactive Capture', 2), ('Image Carousel', 2), ('Interactive Video', 2), ('Animated Text', 2), ('Ambient Lighting', 2), ('Feature Highlight Image', 2), ('Product Features Video', 1), ('Product Features Animation', 1), ('Product Features Interactive Elements', 1), ('Country Zoom', 1), ('Product Integration', 1), ('Music Visualization', 1), ('Concert Scene', 1), ('Immersive Music', 1), ('Lighting Effects', 1), ('Behind-the-Scenes', 1), ('Call to Action', 1), ('Brand Presence', 1), ('Local Spotlight', 1), ('Branding Elements', 1), ('Audio Engagement', 1), ('Festival Atmosphere', 1), ('Sensory Overload', 1), ('Colorful Imagery', 1), ('Artistic Collaboration', 1), ('Interactive Invitation', 1), ('Cultural Showcase', 1), ('Interactive Map', 1), ('Engagement Trigger', 1), ('Logo Integration', 1), ('Cultural Immersion', 1), ('Seamless Branding', 1), ('Auditory Connection', 1), ('Live Concert Vibe', 1), ('Rhythmic Engagement', 1), ('Vibrant Visuals', 1), ('Creative Synergy', 1), ('Discovery Element', 1), ('Diversity Highlight', 1), ('Interaction Prompt', 1), ('Music Integration', 1), ('CTA Design', 1), ('CTA Interaction', 1), ('Visual Effects', 1), ('Audio Visual Sync', 1), ('CTA Placement', 1), ('Rotating Globe', 1), ('Prompt Text', 1), ('Zoomed Destination', 1), ('Invitation Text', 1), ('Interactive Globe', 1), ('Instructional Text', 1), ('Destination Montage', 1), ('Persuasive Text', 1), ('Animated Globe', 1), ('Destination Showcase', 1), ('Cultural Music', 1), ('Action Button', 1), ('Motivational Text', 1), ('Destination Visuals', 1), ('Food Bowl', 1), ('Urban Background', 1), ('SmartPack Interior Image', 1), ('Character Videos', 1), ('SmartPack Product Video', 1), ('Campus Background', 1), ('Interactive Scenes', 1), ('Swipeable Element', 1), ('Tap-to-Capture', 1), ('Testimonial', 1), ('Hotspots', 1), ('Close-up Image', 1), ('Interactive Animation', 1), ('Runway Video', 1), ('Lifestyle Video', 1), ('Interactive Gallery', 1), ('Caption', 1), ('Fade-out Effect', 1), ('Fast-paced Game Scenes', 1), ('Spotlight Effect', 1), ('Dynamic Game Scenes', 1), ('Intense Game Scenes', 1), ('360-degree View Video', 1), ('Interactive 3D Model', 1), ('Feature Highlight Video', 1)]\n"
     ]
    }
   ],
   "source": [
    "from collections import defaultdict\n",
    "\n",
    "\n",
    "asset_categories = defaultdict(int)\n",
    "for suggestions in df['asset_suggestions']:\n",
    "    for frames in suggestions:\n",
    "        for frame in frames:\n",
    "            if frame != \"explanation\":\n",
    "                for key in frames[frame].keys():\n",
    "                    asset_categories[key] += 1\n",
    "\n",
    "\n",
    "asset_categories = sorted(asset_categories.items(), reverse=True, key=lambda x:x[1])\n",
    "print(asset_categories)"
   ]
  },
  {
   "cell_type": "code",
   "execution_count": 67,
   "metadata": {},
   "outputs": [
    {
     "data": {
      "text/plain": [
       "241"
      ]
     },
     "execution_count": 67,
     "metadata": {},
     "output_type": "execute_result"
    }
   ],
   "source": [
    "len(asset_categories)"
   ]
  },
  {
   "cell_type": "markdown",
   "metadata": {},
   "source": [
    "### Visualize the top 10 categories of asset"
   ]
  },
  {
   "cell_type": "code",
   "execution_count": 68,
   "metadata": {},
   "outputs": [
    {
     "data": {
      "image/png": "[encoded data removed]",
      "text/plain": [
       "<Figure size 1000x600 with 1 Axes>"
      ]
     },
     "metadata": {},
     "output_type": "display_data"
    }
   ],
   "source": [
    "# Extract top 10 categories\n",
    "top_10_categories = asset_categories[:10]\n",
    "\n",
    "# Extract category names and counts for plotting\n",
    "categories = [category[0] for category in top_10_categories]\n",
    "counts = [category[1] for category in top_10_categories]\n",
    "\n",
    "# Plotting\n",
    "plt.figure(figsize=(10, 6))\n",
    "plt.barh(categories, counts, color='skyblue')\n",
    "plt.xlabel('Count')\n",
    "plt.ylabel('Asset Category')\n",
    "plt.title('Top 10 Asset Categories')\n",
    "plt.gca().invert_yaxis()  # Invert y-axis to display the category with highest count on top\n",
    "plt.show()"
   ]
  }
 ],
 "metadata": {
  "kernelspec": {
   "display_name": "week10",
   "language": "python",
   "name": "python3"
  },
  "language_info": {
   "codemirror_mode": {
    "name": "ipython",
    "version": 3
   },
   "file_extension": ".py",
   "mimetype": "text/x-python",
   "name": "python",
   "nbconvert_exporter": "python",
   "pygments_lexer": "ipython3",
   "version": "3.8.0"
  }
 },
 "nbformat": 4,
 "nbformat_minor": 2
}
