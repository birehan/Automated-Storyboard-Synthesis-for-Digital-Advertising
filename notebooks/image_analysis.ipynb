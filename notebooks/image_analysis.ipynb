{
 "cells": [
  {
   "cell_type": "markdown",
   "metadata": {},
   "source": [
    "## Image analysis using opencv"
   ]
  },
  {
   "cell_type": "markdown",
   "metadata": {},
   "source": [
    "### Import packages"
   ]
  },
  {
   "cell_type": "code",
   "execution_count": 1,
   "metadata": {},
   "outputs": [],
   "source": [
    "import os\n",
    "import sys\n",
    "from IPython.display import Image\n",
    "\n",
    "sys.path.append(os.path.abspath(os.path.join('../scripts')))"
   ]
  },
  {
   "cell_type": "code",
   "execution_count": 2,
   "metadata": {},
   "outputs": [],
   "source": [
    "from image_analysis_utils import extract_text_on_image, extract_dominant_colors, plot_dominant_colors"
   ]
  },
  {
   "cell_type": "code",
   "execution_count": 3,
   "metadata": {},
   "outputs": [
    {
     "name": "stderr",
     "output_type": "stream",
     "text": [
      "2024-02-13 19:21:51,219:logger:Text extracted from image successfully\n"
     ]
    },
    {
     "data": {
      "text/plain": [
       "['TAP THE SCREEN to find the nearest Lexus dealership',\n",
       " 'Ovexus L/CERTIFIED BY LEXUS']"
      ]
     },
     "execution_count": 3,
     "metadata": {},
     "output_type": "execute_result"
    }
   ],
   "source": [
    "image_path = \"../data/Challenge_Data/Assets/0a22f881b77f00220f2034c21a18b854/_preview.png\"\n",
    "extract_text_on_image(image_path)"
   ]
  },
  {
   "cell_type": "code",
   "execution_count": 4,
   "metadata": {},
   "outputs": [
    {
     "name": "stderr",
     "output_type": "stream",
     "text": [
      "2024-02-13 19:22:22,675:logger:Dominant colors determined successfully\n",
      "2024-02-13 19:22:22,678:logger:Dominant colors extracted from image successfully\n"
     ]
    }
   ],
   "source": [
    "top_colors = extract_dominant_colors(image_path)"
   ]
  },
  {
   "cell_type": "code",
   "execution_count": 5,
   "metadata": {},
   "outputs": [
    {
     "data": {
      "text/plain": [
       "(255, 255, 255)    0.332378\n",
       "(8, 8, 12)         0.146178\n",
       "(9, 9, 14)         0.121200\n",
       "(9, 11, 15)        0.018744\n",
       "(10, 12, 16)       0.015122\n",
       "(10, 10, 15)       0.014778\n",
       "(11, 13, 17)       0.012467\n",
       "(9, 9, 13)         0.011900\n",
       "(0, 0, 0)          0.011756\n",
       "(8, 9, 14)         0.008844\n",
       "Name: count, dtype: float64"
      ]
     },
     "execution_count": 5,
     "metadata": {},
     "output_type": "execute_result"
    }
   ],
   "source": [
    "top_colors"
   ]
  },
  {
   "cell_type": "code",
   "execution_count": 7,
   "metadata": {},
   "outputs": [
    {
     "name": "stderr",
     "output_type": "stream",
     "text": [
      "2024-02-13 19:22:50,845:logger:An unexpected error occurred while plotting dominant colors: unsupported operand type(s) for /: 'tuple' and 'int'\n"
     ]
    },
    {
     "data": {
      "text/plain": [
       "<Figure size 800x800 with 0 Axes>"
      ]
     },
     "metadata": {},
     "output_type": "display_data"
    }
   ],
   "source": [
    "plot_dominant_colors(top_colors)"
   ]
  }
 ],
 "metadata": {
  "kernelspec": {
   "display_name": "week10",
   "language": "python",
   "name": "python3"
  },
  "language_info": {
   "codemirror_mode": {
    "name": "ipython",
    "version": 3
   },
   "file_extension": ".py",
   "mimetype": "text/x-python",
   "name": "python",
   "nbconvert_exporter": "python",
   "pygments_lexer": "ipython3",
   "version": "3.8.18"
  }
 },
 "nbformat": 4,
 "nbformat_minor": 2
}
